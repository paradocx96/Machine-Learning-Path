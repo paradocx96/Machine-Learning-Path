{
 "cells": [
  {
   "cell_type": "markdown",
   "source": [
    "# TENSORS\n",
    "\n",
    "* Tensor is a data structure.\n",
    "* Tensor is the basic data structure in Scikit learn and Tensorflow libraries.\n",
    "* Tensor is a container for numbers."
   ],
   "metadata": {
    "collapsed": false,
    "pycharm": {
     "name": "#%% md\n"
    }
   }
  },
  {
   "cell_type": "markdown",
   "source": [
    "# 0-D TENSORS / SCALERS\n",
    "\n",
    "* If single number is stored like 2, 3 those are called 0-D tensor or Scaler.\n",
    "* 0-D → No dimension\n",
    "* Practical Implementation:"
   ],
   "metadata": {
    "collapsed": false,
    "pycharm": {
     "name": "#%% md\n"
    }
   }
  },
  {
   "cell_type": "code",
   "execution_count": 1,
   "outputs": [],
   "source": [
    "import numpy as np"
   ],
   "metadata": {
    "collapsed": false,
    "pycharm": {
     "name": "#%%\n"
    }
   }
  },
  {
   "cell_type": "code",
   "execution_count": 2,
   "outputs": [],
   "source": [
    "a = np.array(2)"
   ],
   "metadata": {
    "collapsed": false,
    "pycharm": {
     "name": "#%%\n"
    }
   }
  },
  {
   "cell_type": "code",
   "execution_count": 3,
   "outputs": [
    {
     "data": {
      "text/plain": "array(2)"
     },
     "execution_count": 3,
     "metadata": {},
     "output_type": "execute_result"
    }
   ],
   "source": [
    "a"
   ],
   "metadata": {
    "collapsed": false,
    "pycharm": {
     "name": "#%%\n"
    }
   }
  },
  {
   "cell_type": "code",
   "execution_count": 4,
   "outputs": [
    {
     "data": {
      "text/plain": "0"
     },
     "execution_count": 4,
     "metadata": {},
     "output_type": "execute_result"
    }
   ],
   "source": [
    "a.ndim"
   ],
   "metadata": {
    "collapsed": false,
    "pycharm": {
     "name": "#%%\n"
    }
   }
  },
  {
   "cell_type": "markdown",
   "source": [
    "# 1-D TENSOR-VECTOR"
   ],
   "metadata": {
    "collapsed": false,
    "pycharm": {
     "name": "#%% md\n"
    }
   }
  },
  {
   "cell_type": "code",
   "execution_count": 5,
   "outputs": [],
   "source": [
    "arr = np.array([1, 2, 3, 4])"
   ],
   "metadata": {
    "collapsed": false,
    "pycharm": {
     "name": "#%%\n"
    }
   }
  },
  {
   "cell_type": "code",
   "execution_count": 6,
   "outputs": [
    {
     "data": {
      "text/plain": "array([1, 2, 3, 4])"
     },
     "execution_count": 6,
     "metadata": {},
     "output_type": "execute_result"
    }
   ],
   "source": [
    "arr"
   ],
   "metadata": {
    "collapsed": false,
    "pycharm": {
     "name": "#%%\n"
    }
   }
  },
  {
   "cell_type": "code",
   "execution_count": 7,
   "outputs": [
    {
     "data": {
      "text/plain": "1"
     },
     "execution_count": 7,
     "metadata": {},
     "output_type": "execute_result"
    }
   ],
   "source": [
    "arr.ndim"
   ],
   "metadata": {
    "collapsed": false,
    "pycharm": {
     "name": "#%%\n"
    }
   }
  },
  {
   "cell_type": "markdown",
   "source": [
    "## VECTOR\n",
    "\n",
    "* This is a 1D array or 1D tensor.\n",
    "* But in this vector , it has 4 elements. Therefore, the dimension of the vector is 4 here.\n",
    "* No of axis = rank = dimension\n",
    "* Vector → 1 axis\n",
    "* Eg: [1,2]\n",
    "  Tensor → 1D (Tensor Dimension is 1)\n",
    "  Vector → 2D (Vector Dimension is 2)"
   ],
   "metadata": {
    "collapsed": false,
    "pycharm": {
     "name": "#%% md\n"
    }
   }
  },
  {
   "cell_type": "markdown",
   "source": [
    "# 2-D TENSORS / MATRICES\n",
    "\n",
    "* Collection of multiple vectors is a matrix\n",
    "\n",
    "* [1,2,3],[4,5,6],[7,8,9]\n",
    "\n",
    "* [[1,2,3]\n",
    "  [4,5,6]\n",
    "  [7,8,9]] → two axis -(row vector, column vector)\n",
    "\n",
    "* Rank = ndim = 2"
   ],
   "metadata": {
    "collapsed": false,
    "pycharm": {
     "name": "#%% md\n"
    }
   }
  },
  {
   "cell_type": "code",
   "execution_count": 8,
   "outputs": [],
   "source": [
    "mat = np.array([[1, 2, 3], [4, 5, 6], [7, 8, 9]])"
   ],
   "metadata": {
    "collapsed": false,
    "pycharm": {
     "name": "#%%\n"
    }
   }
  },
  {
   "cell_type": "code",
   "execution_count": 9,
   "outputs": [
    {
     "data": {
      "text/plain": "array([[1, 2, 3],\n       [4, 5, 6],\n       [7, 8, 9]])"
     },
     "execution_count": 9,
     "metadata": {},
     "output_type": "execute_result"
    }
   ],
   "source": [
    "mat"
   ],
   "metadata": {
    "collapsed": false,
    "pycharm": {
     "name": "#%%\n"
    }
   }
  },
  {
   "cell_type": "code",
   "execution_count": 10,
   "outputs": [
    {
     "data": {
      "text/plain": "2"
     },
     "execution_count": 10,
     "metadata": {},
     "output_type": "execute_result"
    }
   ],
   "source": [
    "mat.ndim"
   ],
   "metadata": {
    "collapsed": false,
    "pycharm": {
     "name": "#%%\n"
    }
   }
  },
  {
   "cell_type": "markdown",
   "source": [
    "# N-D TENSOR\n",
    "\n",
    "## 3-D TENSOR\n",
    "\n",
    "![3d Tensor](assets/3dTensor.png)\n",
    "\n",
    "## 4-D TENSOR\n",
    "\n",
    "* Vector of 3 D tensor\n",
    "* 3-D tensor is a cuboid\n",
    "* Collection of 3-D tensors is a 4-D tensor\n",
    "\n",
    "![4d Tensor](assets/4dTensor.png)\n",
    "\n",
    "## 5-D TENSOR\n",
    "\n",
    "* Matrix of 4-D tensor\n",
    "\n",
    "![5d Tensor](assets/5dTensor.png)\n",
    "\n",
    "## 6-D TENSOR\n",
    "\n",
    "* Collection of 5-D tensors\n",
    "\n",
    "# RANK, AXES and SHAPE\n",
    "\n",
    "* Number of axes = Rank = Number of dimensions\n",
    "* Shape: how many items can be stored in an axis\n",
    "* Eg: shape(3,3) shape(2,3)\n",
    "\n",
    "![Rank,Axes and Shape](assets/RkAxShp.png)\n",
    "\n",
    "# SIZE OF A TENSOR\n",
    "\n",
    "* Multiplication of the shape\n",
    "* Size of scaler = 1\n",
    "* Size of vector = number of elements in the vector\n",
    "\n",
    "## EXAMPLE - 1-D TENSOR\n",
    "\n",
    "* 1-D tensor\n",
    "* [3.7, 94, 0]\n",
    "\n",
    "| CGPA | IQ  | District | Placement |\n",
    "|------|-----|----------|-----------|\n",
    "| 3.7  | 94  | Colombo  | 1         |\n",
    "\n",
    "![Ex1DTen](assets/Ex1DTen.png)\n",
    "\n",
    "* Every machine Learning table, each row is a 1-D tensor, but it will be a multidimensional vector.\n",
    "* Also in a machine learning problem, each column can be considered as a 1-D tensor.\n",
    "\n",
    "## EXAMPLE - 2-D TENSOR\n",
    "\n",
    "* Rows combination\n",
    "* [3.9, 123, 0]\n",
    "* [3.7, 99, 1]\n",
    "* [3.6, 88, 1]\n",
    "\n",
    "| CGPA | IQ  | District |\n",
    "|------|-----|----------|\n",
    "| 3.9  | 123 | Colombo  |\n",
    "| 3.7  | 99  | Galle    |\n",
    "| 3.6  | 88  | Kandy    |\n",
    "\n",
    "* Collection of 1-D tensors is a 2-D tensor, So collection of rows in a ML data set , is a 2-D tensor (Matrix)\n",
    "\n",
    "## EXAMPLE 1 - 3-D TENSOR\n",
    "\n",
    "* 3-D tensors are not as frequent as 2-D or 1-D tensors in ML. But this is commonly used in NLP. In ML problems when we want to deal with texts it should be converted in to numbers.\n",
    "* Hi Onara\n",
    "* Hi Danuja\n",
    "* Hi Deen\n",
    "* Hi Dewmini\n",
    "\n",
    "| Hi  | Onara | Danuja | Deen | Dewmini |\n",
    "|-----|-------|--------|------|---------|\n",
    "| 1   | 0     | 0      | 0    | 0       |\n",
    "| 0   | 1     | 0      | 0    | 0       |\n",
    "| 0   | 0     | 1      | 0    | 0       |\n",
    "| 0   | 0     | 0      | 1    | 0       |\n",
    "| 0   | 0     | 0      | 0    | 1       |\n",
    "\n",
    "* Hi Onara: [[1,0,0,0,0],[0,1,0,0,0]]\n",
    "* Hi Danuja: [[1,0,0,0,0],[0,0,1,0,0]]\n",
    "* Hi Deen: [[1,0,0,0,0],[0,0,0,1,0]]\n",
    "* Hi Dewmini: [[1,0,0,0,0],[0,0,0,0,1]]\n",
    "\n",
    "### HOW TO GET THE SHAPE OF THE 3-D TENSOR?\n",
    "\n",
    "* (how many matrices, how many vectors, How many elements)\n",
    "* (4,2,5)=40\n",
    "\n",
    "![ShapeOf3DTensor](assets/ShapeOf3DTensor.png)\n",
    "\n",
    "## EXAMPLE 2 - 3-D TENSOR\n",
    "\n",
    "* Time series data: Time series data is the data that is taken at frequent time intervals.\n",
    "* Ex: data of the share market (daily basis)→ 365 days\n",
    "* If this is taken for some number of years, then it is a 3-D tensor\n",
    "\n",
    "![Ex23DTensor](assets/Ex23DTensor.png)\n",
    "\n",
    "## EXAMPLE - 4-D TENSOR: IMAGED BASED DATA\n",
    "\n",
    "* We can find 4-D tensors in the computer vision domain.\n",
    "* Every image is a collection of pixels. Each pixel has a numerical value.\n",
    "* If it is a color image, it has three channels called RGB values. So it is a 3-D tensor.\n",
    "* What if it is a multiple images. Then it is a 4-D tensor.\n",
    "* (3,1200,800) → 3-D tensor\n",
    "* (50,3,1200,800) → 4-D tensor\n",
    "\n",
    "![img.png](assets/Ex4DTensor.png)\n",
    "\n",
    "## EXAMPLE - 5-D TENSORS: VIDEOS\n",
    "\n",
    "* Videos are basically frames which are moving fast.(Collection of frames)\n",
    "* Suppose a video of 60 s and 30 fps with a resolution of 480p , that means 480x720, 3 channels (RGB)-Color Image.\n",
    "* 1 image = 480 x 720 x 3\n",
    "* Since 30 fps => 30 x 480 x 720 x 3\n",
    "* Since 60 sec → 60 x 30 x 480 x 720 x 3=(1800,480,720,3) → 4-D tensor\n",
    "* If there are 4 videos then it is a 5-D tensor → (4,1800,480,720,3)\n",
    "* This size is a very large one.\n",
    "* If this is stored in 32-bit float → then that number x 32\n",
    "* To convert byte/8, to convert killo byte/1024, megabyte/1024, gigabyte/1024 → 27\n",
    "* So to store this type of video it is needed to have , 27. GB\n",
    "* But it is used vide encoded formats like Mkv,MPEG,Mp4 and reduced the amount.\n",
    "\n",
    "# FRAMING A DATA SCIENCE PROBLEM\n",
    "\n",
    "1. Magic 7’s\n",
    "2. Business concept and the data and the Technical concept\n",
    "\n",
    "## BUSINESS CONCEPT VS TECHNICAL CONCEPT\n",
    "\n",
    "| Business Concept                                     | Data         | Technical Concept                |\n",
    "|------------------------------------------------------|--------------|----------------------------------|\n",
    "| Human can analyze, Identify pattern & Make Decision. | Numerical    | Machine Learning & Deep Learning |\n",
    "| Human can listen & Speak                             | Text/Audio   | ML/DL/NLP                        |\n",
    "| Human Can see & Recognize                            | Image/ Video | Computer vision & Deep Learning  |\n",
    "| Brain signal processing                              | EEG          | ML/DL                            |\n",
    "\n",
    "### HOW A COMPANY GENERATE PROFITS?\n",
    "\n",
    "1. Searching revenue from new customers\n",
    "2. Getting more revenue from existing customers.\n",
    "3. Reducing the churn rate (stop subscribing to a service)\n",
    "\n",
    "## Magic 7’s\n",
    "\n",
    "### 1.CONVERT BUSINESS PROBLEM TO ML PROBLEM\n",
    "\n",
    "* Convert the Business Problem to a mathematical problem.\n",
    "* Ex: Reduce the Churn rate from 5% to 4.75%\n",
    "\n",
    "### 2. TYPE OF PROBLEM\n",
    "\n",
    "* Identify the big picture (Identify the end product)\n",
    "* Main goal: Churn rate reduction?\n",
    "* How to reduce churn rate?\n",
    "* Your goal is not to predict the chain rate, your goal is to reduce it.\n",
    "* Identify the customers who are going to leave the platform?\n",
    "* Identify the problems of leaving the platform?\n",
    "* If a customer leaving the platform, offer him a discount?\n",
    "* Supervised learning → Classification → Stealing or Not\n",
    "* Offer the discount and see what is the probability that he is leaving the platform → It is now a regression problem.\n",
    "\n",
    "### 3. CURRENT SOLUTION\n",
    "\n",
    "* Overall churn rate% measured by an existing model;\n",
    "* Factors considered for the existing model.\n",
    "\n",
    "### 4. GETTING DATA\n",
    "\n",
    "1. Watch time:\n",
    "2. Search but did not find\n",
    "3. Content left in the middle\n",
    "4. Clicked on recommendations\n",
    "\n",
    "### 5. METRICS TO MEASURE\n",
    "\n",
    "* Model successful or not?\n",
    "* How accuracy of the model?\n",
    "\n",
    "### 6. ONLINE OR BATCH\n",
    "\n",
    "### 7. CHECK ASSUMPTIONS\n",
    "\n",
    "* Will your attributes available?\n",
    "* Single model or multi model ?\n",
    "* Geography based models?\n",
    "\n",
    "## DATA GATHERING\n",
    "\n",
    "1. CSV: 90% of Kaggle’s data is in CSV format. Easy to get.\n",
    "2. JSON/SQL: SQL Data taken from databases\n",
    "3. Fetch data from API: Pull data from a server of an actual website.\n",
    "4. Web Scraping: If the website does not provide data, no API, then we can use web scraping to get the data.\n"
   ],
   "metadata": {
    "collapsed": false,
    "pycharm": {
     "name": "#%% md\n"
    }
   }
  }
 ],
 "metadata": {
  "kernelspec": {
   "display_name": "Python 3",
   "language": "python",
   "name": "python3"
  },
  "language_info": {
   "codemirror_mode": {
    "name": "ipython",
    "version": 2
   },
   "file_extension": ".py",
   "mimetype": "text/x-python",
   "name": "python",
   "nbconvert_exporter": "python",
   "pygments_lexer": "ipython2",
   "version": "2.7.6"
  }
 },
 "nbformat": 4,
 "nbformat_minor": 0
}
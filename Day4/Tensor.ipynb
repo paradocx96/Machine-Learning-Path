{
 "cells": [
  {
   "cell_type": "markdown",
   "source": [
    "# TENSORS\n",
    "\n",
    "* Tensor is a data structure.\n",
    "* Tensor is the basic data structure in Scikit learn and Tensorflow libraries.\n",
    "* Tensor is a container for numbers."
   ],
   "metadata": {
    "collapsed": false,
    "pycharm": {
     "name": "#%% md\n"
    }
   }
  },
  {
   "cell_type": "markdown",
   "source": [
    "# 0-D TENSORS / SCALERS\n",
    "\n",
    "* If single number is stored like 2, 3 those are called 0-D tensor or Scaler.\n",
    "* 0-D → No dimension\n",
    "* Practical Implementation:"
   ],
   "metadata": {
    "collapsed": false,
    "pycharm": {
     "name": "#%% md\n"
    }
   }
  },
  {
   "cell_type": "code",
   "execution_count": 51,
   "outputs": [],
   "source": [
    "import numpy as np"
   ],
   "metadata": {
    "collapsed": false,
    "pycharm": {
     "name": "#%%\n"
    }
   }
  },
  {
   "cell_type": "code",
   "execution_count": 52,
   "outputs": [],
   "source": [
    "a = np.array(2)"
   ],
   "metadata": {
    "collapsed": false,
    "pycharm": {
     "name": "#%%\n"
    }
   }
  },
  {
   "cell_type": "code",
   "execution_count": 53,
   "outputs": [
    {
     "data": {
      "text/plain": "array(2)"
     },
     "execution_count": 53,
     "metadata": {},
     "output_type": "execute_result"
    }
   ],
   "source": [
    "a"
   ],
   "metadata": {
    "collapsed": false,
    "pycharm": {
     "name": "#%%\n"
    }
   }
  },
  {
   "cell_type": "code",
   "execution_count": 54,
   "outputs": [
    {
     "data": {
      "text/plain": "0"
     },
     "execution_count": 54,
     "metadata": {},
     "output_type": "execute_result"
    }
   ],
   "source": [
    "a.ndim"
   ],
   "metadata": {
    "collapsed": false,
    "pycharm": {
     "name": "#%%\n"
    }
   }
  },
  {
   "cell_type": "markdown",
   "source": [
    "# 1-D TENSOR-VECTOR"
   ],
   "metadata": {
    "collapsed": false,
    "pycharm": {
     "name": "#%% md\n"
    }
   }
  },
  {
   "cell_type": "code",
   "execution_count": 55,
   "outputs": [],
   "source": [
    "arr = np.array([1, 2, 3, 4])"
   ],
   "metadata": {
    "collapsed": false,
    "pycharm": {
     "name": "#%%\n"
    }
   }
  },
  {
   "cell_type": "code",
   "execution_count": 56,
   "outputs": [
    {
     "data": {
      "text/plain": "array([1, 2, 3, 4])"
     },
     "execution_count": 56,
     "metadata": {},
     "output_type": "execute_result"
    }
   ],
   "source": [
    "arr"
   ],
   "metadata": {
    "collapsed": false,
    "pycharm": {
     "name": "#%%\n"
    }
   }
  },
  {
   "cell_type": "code",
   "execution_count": 57,
   "outputs": [
    {
     "data": {
      "text/plain": "1"
     },
     "execution_count": 57,
     "metadata": {},
     "output_type": "execute_result"
    }
   ],
   "source": [
    "arr.ndim"
   ],
   "metadata": {
    "collapsed": false,
    "pycharm": {
     "name": "#%%\n"
    }
   }
  },
  {
   "cell_type": "markdown",
   "source": [
    "## VECTOR\n",
    "\n",
    "* This is a 1D array or 1D tensor.\n",
    "* But in this vector , it has 4 elements. Therefore, the dimension of the vector is 4 here.\n",
    "* No of axis = rank = dimension\n",
    "* Vector → 1 axis\n",
    "* Eg: [1,2]\n",
    "  Tensor → 1D (Tensor Dimension is 1)\n",
    "  Vector → 2D (Vector Dimension is 2)"
   ],
   "metadata": {
    "collapsed": false,
    "pycharm": {
     "name": "#%% md\n"
    }
   }
  },
  {
   "cell_type": "markdown",
   "source": [
    "# 2-D TENSORS / MATRICES\n",
    "\n",
    "* Collection of multiple vectors is a matrix\n",
    "\n",
    "* [1,2,3],[4,5,6],[7,8,9]\n",
    "\n",
    "* [[1,2,3]\n",
    "  [4,5,6]\n",
    "  [7,8,9]] → two axis -(row vector, column vector)\n",
    "\n",
    "* Rank = ndim = 2"
   ],
   "metadata": {
    "collapsed": false,
    "pycharm": {
     "name": "#%% md\n"
    }
   }
  },
  {
   "cell_type": "code",
   "execution_count": 58,
   "outputs": [],
   "source": [
    "mat = np.array([[1, 2, 3], [4, 5, 6], [7, 8, 9]])"
   ],
   "metadata": {
    "collapsed": false,
    "pycharm": {
     "name": "#%%\n"
    }
   }
  },
  {
   "cell_type": "code",
   "execution_count": 59,
   "outputs": [
    {
     "data": {
      "text/plain": "array([[1, 2, 3],\n       [4, 5, 6],\n       [7, 8, 9]])"
     },
     "execution_count": 59,
     "metadata": {},
     "output_type": "execute_result"
    }
   ],
   "source": [
    "mat"
   ],
   "metadata": {
    "collapsed": false,
    "pycharm": {
     "name": "#%%\n"
    }
   }
  },
  {
   "cell_type": "code",
   "execution_count": 60,
   "outputs": [
    {
     "data": {
      "text/plain": "2"
     },
     "execution_count": 60,
     "metadata": {},
     "output_type": "execute_result"
    }
   ],
   "source": [
    "mat.ndim"
   ],
   "metadata": {
    "collapsed": false,
    "pycharm": {
     "name": "#%%\n"
    }
   }
  },
  {
   "cell_type": "markdown",
   "source": [
    "# N-D TENSOR\n",
    "\n",
    "## 3-D TENSOR\n",
    "\n",
    "![3d Tensor](assets/3dTensor.png)\n",
    "\n",
    "## 4-D TENSOR\n",
    "\n",
    "* Vector of 3 D tensor\n",
    "* 3-D tensor is a cuboid\n",
    "* Collection of 3-D tensors is a 4-D tensor\n",
    "\n",
    "![4d Tensor](assets/4dTensor.png)\n",
    "\n",
    "## 5-D TENSOR\n",
    "\n",
    "* Matrix of 4-D tensor\n",
    "\n",
    "![5d Tensor](assets/5dTensor.png)\n",
    "\n",
    "## 6-D TENSOR\n",
    "\n",
    "* Collection of 5-D tensors\n",
    "\n",
    "# RANK , AXES AND SHAPE\n",
    "\n",
    "* Number of axes = Rank = Number of dimensions\n",
    "* Shape: how many items can be stored in an axis\n",
    "\n",
    "![6d Tensor](assets/RkAxShp.png)"
   ],
   "metadata": {
    "collapsed": false,
    "pycharm": {
     "name": "#%% md\n"
    }
   }
  },
  {
   "cell_type": "code",
   "execution_count": null,
   "outputs": [],
   "source": [],
   "metadata": {
    "collapsed": false,
    "pycharm": {
     "name": "#%%\n"
    }
   }
  }
 ],
 "metadata": {
  "kernelspec": {
   "display_name": "Python 3",
   "language": "python",
   "name": "python3"
  },
  "language_info": {
   "codemirror_mode": {
    "name": "ipython",
    "version": 2
   },
   "file_extension": ".py",
   "mimetype": "text/x-python",
   "name": "python",
   "nbconvert_exporter": "python",
   "pygments_lexer": "ipython2",
   "version": "2.7.6"
  }
 },
 "nbformat": 4,
 "nbformat_minor": 0
}